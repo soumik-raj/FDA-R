{
 "cells": [
  {
   "cell_type": "code",
   "execution_count": 57,
   "id": "07dc617e",
   "metadata": {},
   "outputs": [
    {
     "name": "stdout",
     "output_type": "stream",
     "text": [
      "Defaulting to user installation because normal site-packages is not writeable\n",
      "Requirement already satisfied: aiogram in c:\\users\\soumi\\appdata\\roaming\\python\\python312\\site-packages (3.21.0)\n",
      "Requirement already satisfied: aiofiles<24.2,>=23.2.1 in c:\\users\\soumi\\appdata\\roaming\\python\\python312\\site-packages (from aiogram) (24.1.0)\n",
      "Requirement already satisfied: aiohttp<3.13,>=3.9.0 in c:\\users\\soumi\\appdata\\roaming\\python\\python312\\site-packages (from aiogram) (3.12.14)\n",
      "Requirement already satisfied: certifi>=2023.7.22 in c:\\users\\soumi\\appdata\\roaming\\python\\python312\\site-packages (from aiogram) (2025.7.14)\n",
      "Requirement already satisfied: magic-filter<1.1,>=1.0.12 in c:\\users\\soumi\\appdata\\roaming\\python\\python312\\site-packages (from aiogram) (1.0.12)\n",
      "Requirement already satisfied: pydantic<2.12,>=2.4.1 in c:\\users\\soumi\\appdata\\roaming\\python\\python312\\site-packages (from aiogram) (2.11.7)\n",
      "Requirement already satisfied: typing-extensions<=5.0,>=4.7.0 in c:\\users\\soumi\\appdata\\roaming\\python\\python312\\site-packages (from aiogram) (4.14.1)\n",
      "Requirement already satisfied: aiohappyeyeballs>=2.5.0 in c:\\users\\soumi\\appdata\\roaming\\python\\python312\\site-packages (from aiohttp<3.13,>=3.9.0->aiogram) (2.6.1)\n",
      "Requirement already satisfied: aiosignal>=1.4.0 in c:\\users\\soumi\\appdata\\roaming\\python\\python312\\site-packages (from aiohttp<3.13,>=3.9.0->aiogram) (1.4.0)\n",
      "Requirement already satisfied: attrs>=17.3.0 in c:\\users\\soumi\\appdata\\roaming\\python\\python312\\site-packages (from aiohttp<3.13,>=3.9.0->aiogram) (25.3.0)\n",
      "Requirement already satisfied: frozenlist>=1.1.1 in c:\\users\\soumi\\appdata\\roaming\\python\\python312\\site-packages (from aiohttp<3.13,>=3.9.0->aiogram) (1.7.0)\n",
      "Requirement already satisfied: multidict<7.0,>=4.5 in c:\\users\\soumi\\appdata\\roaming\\python\\python312\\site-packages (from aiohttp<3.13,>=3.9.0->aiogram) (6.6.3)\n",
      "Requirement already satisfied: propcache>=0.2.0 in c:\\users\\soumi\\appdata\\roaming\\python\\python312\\site-packages (from aiohttp<3.13,>=3.9.0->aiogram) (0.3.2)\n",
      "Requirement already satisfied: yarl<2.0,>=1.17.0 in c:\\users\\soumi\\appdata\\roaming\\python\\python312\\site-packages (from aiohttp<3.13,>=3.9.0->aiogram) (1.20.1)\n",
      "Requirement already satisfied: annotated-types>=0.6.0 in c:\\users\\soumi\\appdata\\roaming\\python\\python312\\site-packages (from pydantic<2.12,>=2.4.1->aiogram) (0.7.0)\n",
      "Requirement already satisfied: pydantic-core==2.33.2 in c:\\users\\soumi\\appdata\\roaming\\python\\python312\\site-packages (from pydantic<2.12,>=2.4.1->aiogram) (2.33.2)\n",
      "Requirement already satisfied: typing-inspection>=0.4.0 in c:\\users\\soumi\\appdata\\roaming\\python\\python312\\site-packages (from pydantic<2.12,>=2.4.1->aiogram) (0.4.1)\n",
      "Requirement already satisfied: idna>=2.0 in c:\\users\\soumi\\appdata\\roaming\\python\\python312\\site-packages (from yarl<2.0,>=1.17.0->aiohttp<3.13,>=3.9.0->aiogram) (3.10)\n"
     ]
    }
   ],
   "source": [
    "!pip install -U aiogram"
   ]
  },
  {
   "cell_type": "code",
   "execution_count": 58,
   "id": "dcd1a843",
   "metadata": {},
   "outputs": [
    {
     "name": "stdout",
     "output_type": "stream",
     "text": [
      "Defaulting to user installation because normal site-packages is not writeable\n",
      "Requirement already satisfied: openai in c:\\users\\soumi\\appdata\\roaming\\python\\python312\\site-packages (1.97.1)\n",
      "Requirement already satisfied: anyio<5,>=3.5.0 in c:\\users\\soumi\\appdata\\roaming\\python\\python312\\site-packages (from openai) (4.9.0)\n",
      "Requirement already satisfied: distro<2,>=1.7.0 in c:\\users\\soumi\\appdata\\roaming\\python\\python312\\site-packages (from openai) (1.9.0)\n",
      "Requirement already satisfied: httpx<1,>=0.23.0 in c:\\users\\soumi\\appdata\\roaming\\python\\python312\\site-packages (from openai) (0.28.1)\n",
      "Requirement already satisfied: jiter<1,>=0.4.0 in c:\\users\\soumi\\appdata\\roaming\\python\\python312\\site-packages (from openai) (0.10.0)\n",
      "Requirement already satisfied: pydantic<3,>=1.9.0 in c:\\users\\soumi\\appdata\\roaming\\python\\python312\\site-packages (from openai) (2.11.7)\n",
      "Requirement already satisfied: sniffio in c:\\users\\soumi\\appdata\\roaming\\python\\python312\\site-packages (from openai) (1.3.1)\n",
      "Requirement already satisfied: tqdm>4 in c:\\users\\soumi\\appdata\\roaming\\python\\python312\\site-packages (from openai) (4.67.1)\n",
      "Requirement already satisfied: typing-extensions<5,>=4.11 in c:\\users\\soumi\\appdata\\roaming\\python\\python312\\site-packages (from openai) (4.14.1)\n",
      "Requirement already satisfied: idna>=2.8 in c:\\users\\soumi\\appdata\\roaming\\python\\python312\\site-packages (from anyio<5,>=3.5.0->openai) (3.10)\n",
      "Requirement already satisfied: certifi in c:\\users\\soumi\\appdata\\roaming\\python\\python312\\site-packages (from httpx<1,>=0.23.0->openai) (2025.7.14)\n",
      "Requirement already satisfied: httpcore==1.* in c:\\users\\soumi\\appdata\\roaming\\python\\python312\\site-packages (from httpx<1,>=0.23.0->openai) (1.0.9)\n",
      "Requirement already satisfied: h11>=0.16 in c:\\users\\soumi\\appdata\\roaming\\python\\python312\\site-packages (from httpcore==1.*->httpx<1,>=0.23.0->openai) (0.16.0)\n",
      "Requirement already satisfied: annotated-types>=0.6.0 in c:\\users\\soumi\\appdata\\roaming\\python\\python312\\site-packages (from pydantic<3,>=1.9.0->openai) (0.7.0)\n",
      "Requirement already satisfied: pydantic-core==2.33.2 in c:\\users\\soumi\\appdata\\roaming\\python\\python312\\site-packages (from pydantic<3,>=1.9.0->openai) (2.33.2)\n",
      "Requirement already satisfied: typing-inspection>=0.4.0 in c:\\users\\soumi\\appdata\\roaming\\python\\python312\\site-packages (from pydantic<3,>=1.9.0->openai) (0.4.1)\n",
      "Requirement already satisfied: colorama in c:\\users\\soumi\\appdata\\roaming\\python\\python312\\site-packages (from tqdm>4->openai) (0.4.6)\n"
     ]
    }
   ],
   "source": [
    "!pip install openai"
   ]
  },
  {
   "cell_type": "code",
   "execution_count": 59,
   "id": "5aed56f6",
   "metadata": {},
   "outputs": [
    {
     "name": "stdout",
     "output_type": "stream",
     "text": [
      "Defaulting to user installation because normal site-packages is not writeable\n",
      "Requirement already satisfied: python-dotenv in c:\\users\\soumi\\appdata\\roaming\\python\\python312\\site-packages (1.1.1)\n"
     ]
    }
   ],
   "source": [
    "!pip install python-dotenv\n"
   ]
  },
  {
   "cell_type": "code",
   "execution_count": 60,
   "id": "7dd3f778",
   "metadata": {},
   "outputs": [],
   "source": [
    "import asyncio\n",
    "from aiogram import Bot, Dispatcher, types\n",
    "from aiogram.filters import Command\n",
    "import os\n",
    "import logging\n",
    "import sys\n",
    "import openai \n",
    "from dotenv import load_dotenv\n"
   ]
  },
  {
   "cell_type": "code",
   "execution_count": 61,
   "id": "4fcb3b5a",
   "metadata": {},
   "outputs": [
    {
     "data": {
      "text/plain": [
       "True"
      ]
     },
     "execution_count": 61,
     "metadata": {},
     "output_type": "execute_result"
    }
   ],
   "source": [
    "load_dotenv()"
   ]
  },
  {
   "cell_type": "code",
   "execution_count": 62,
   "id": "017d9055",
   "metadata": {},
   "outputs": [],
   "source": [
    "openai.api_key = os.environ['OPENAI_API_KEY']"
   ]
  },
  {
   "cell_type": "code",
   "execution_count": 63,
   "id": "90c9ee6f",
   "metadata": {},
   "outputs": [],
   "source": [
    "dp = Dispatcher()"
   ]
  },
  {
   "cell_type": "code",
   "execution_count": 64,
   "id": "1d277e9f",
   "metadata": {},
   "outputs": [],
   "source": [
    "class Gpt_context:\n",
    "    \"This will store previous responses from chatgpt\"\n",
    "    \n",
    "    def __init__(self) -> None:  # Should be __init__ not _init_\n",
    "        self.response = \"\"\n"
   ]
  },
  {
   "cell_type": "code",
   "execution_count": 65,
   "id": "36be1066",
   "metadata": {},
   "outputs": [],
   "source": [
    "context = Gpt_context()"
   ]
  },
  {
   "cell_type": "code",
   "execution_count": 66,
   "id": "276311cb",
   "metadata": {},
   "outputs": [],
   "source": [
    "@dp.message(Command('start'))\n",
    "async def command_start_handler(message : types.Message):\n",
    " 'This handler receives messages with `/start` command'\n",
    " await message.answer(\"Hello, I am a bot\\n created by Soumik raj \\nmanaged by Wizard\")"
   ]
  },
  {
   "cell_type": "code",
   "execution_count": 67,
   "id": "54ba289e",
   "metadata": {},
   "outputs": [],
   "source": [
    "@dp.message(Command('help'))\n",
    "async def command_help_handler(message : types.Message):\n",
    "  \"This handler will recieve the messages with '/help' command\"\n",
    "  help_commnad = \"\"\"\n",
    "  hi, there, please use these commands -\n",
    "  /start - to start the conversation\n",
    "  /help - to ask for help information \"\"\"\n",
    "  await message.reply(help_commnad)"
   ]
  },
  {
   "cell_type": "code",
   "execution_count": 68,
   "id": "3a027a3b",
   "metadata": {},
   "outputs": [],
   "source": [
    "@dp.message()\n",
    "async def chatgpt(message: types.Message):\n",
    "    \"This will process the messages and will get response from openai\"\n",
    "    print(f\"User Prompt: {message.text}\")\n",
    "    \n",
    "    client = openai.OpenAI()  # Create client instance\n",
    "    response = client.chat.completions.create(\n",
    "        model='gpt-4o-mini',\n",
    "        messages=[\n",
    "            {'role': 'user', 'content': message.text}\n",
    "        ]\n",
    "    )\n",
    "    \n",
    "    bot_response = response.choices[0].message.content\n",
    "    print(f\"Bot Response: {bot_response}\")\n",
    "    await message.reply(bot_response)\n"
   ]
  },
  {
   "cell_type": "code",
   "execution_count": 69,
   "id": "3d4cc635",
   "metadata": {},
   "outputs": [],
   "source": [
    "async def main() -> None:\n",
    "  bot = Bot(os.environ['TELEGRAM_BOT_TOKENIZER'])\n",
    "  await dp.start_polling(bot)"
   ]
  },
  {
   "cell_type": "code",
   "execution_count": null,
   "id": "cde7030a",
   "metadata": {},
   "outputs": [
    {
     "name": "stdout",
     "output_type": "stream",
     "text": [
      "INFO:aiogram.dispatcher:Start polling\n",
      "INFO:aiogram.dispatcher:Run polling for bot @Howdidienduphere_bot id=8255896231 - 'Asifbot'\n",
      "ERROR:aiogram.dispatcher:Failed to fetch updates - TelegramConflictError: Telegram server says - Conflict: terminated by other getUpdates request; make sure that only one bot instance is running\n",
      "WARNING:aiogram.dispatcher:Sleep for 1.000000 seconds and try again... (tryings = 0, bot id = 8255896231)\n",
      "ERROR:aiogram.dispatcher:Failed to fetch updates - TelegramConflictError: Telegram server says - Conflict: terminated by other getUpdates request; make sure that only one bot instance is running\n",
      "WARNING:aiogram.dispatcher:Sleep for 1.162390 seconds and try again... (tryings = 1, bot id = 8255896231)\n",
      "ERROR:aiogram.dispatcher:Failed to fetch updates - TelegramConflictError: Telegram server says - Conflict: terminated by other getUpdates request; make sure that only one bot instance is running\n",
      "WARNING:aiogram.dispatcher:Sleep for 1.622124 seconds and try again... (tryings = 2, bot id = 8255896231)\n",
      "ERROR:aiogram.dispatcher:Failed to fetch updates - TelegramConflictError: Telegram server says - Conflict: terminated by other getUpdates request; make sure that only one bot instance is running\n",
      "WARNING:aiogram.dispatcher:Sleep for 2.175703 seconds and try again... (tryings = 3, bot id = 8255896231)\n",
      "ERROR:aiogram.dispatcher:Failed to fetch updates - TelegramConflictError: Telegram server says - Conflict: terminated by other getUpdates request; make sure that only one bot instance is running\n",
      "WARNING:aiogram.dispatcher:Sleep for 2.871847 seconds and try again... (tryings = 4, bot id = 8255896231)\n",
      "INFO:aiogram.dispatcher:Polling stopped\n",
      "ERROR:aiogram.dispatcher:Failed to fetch updates - TelegramNetworkError: HTTP Client says - ServerDisconnectedError: Server disconnected\n",
      "WARNING:aiogram.dispatcher:Sleep for 3.760710 seconds and try again... (tryings = 5, bot id = 8255896231)\n"
     ]
    },
    {
     "ename": "CancelledError",
     "evalue": "",
     "output_type": "error",
     "traceback": [
      "\u001b[31m---------------------------------------------------------------------------\u001b[39m",
      "\u001b[31mCancelledError\u001b[39m                            Traceback (most recent call last)",
      "\u001b[36mCell\u001b[39m\u001b[36m \u001b[39m\u001b[32mIn[71]\u001b[39m\u001b[32m, line 3\u001b[39m\n\u001b[32m      1\u001b[39m \u001b[38;5;28;01mif\u001b[39;00m \u001b[34m__name__\u001b[39m ==\u001b[33m\"\u001b[39m\u001b[33m__main__\u001b[39m\u001b[33m\"\u001b[39m:\n\u001b[32m      2\u001b[39m   logging.basicConfig(level=logging.INFO, stream=sys.stdout)\n\u001b[32m----> \u001b[39m\u001b[32m3\u001b[39m   \u001b[38;5;28;01mawait\u001b[39;00m main()\n",
      "\u001b[36mCell\u001b[39m\u001b[36m \u001b[39m\u001b[32mIn[69]\u001b[39m\u001b[32m, line 3\u001b[39m, in \u001b[36mmain\u001b[39m\u001b[34m()\u001b[39m\n\u001b[32m      1\u001b[39m \u001b[38;5;28;01masync\u001b[39;00m \u001b[38;5;28;01mdef\u001b[39;00m\u001b[38;5;250m \u001b[39m\u001b[34mmain\u001b[39m() -> \u001b[38;5;28;01mNone\u001b[39;00m:\n\u001b[32m      2\u001b[39m   bot = Bot(os.environ[\u001b[33m'\u001b[39m\u001b[33mTELEGRAM_BOT_TOKENIZER\u001b[39m\u001b[33m'\u001b[39m])\n\u001b[32m----> \u001b[39m\u001b[32m3\u001b[39m   \u001b[38;5;28;01mawait\u001b[39;00m dp.start_polling(bot)\n",
      "\u001b[36mFile \u001b[39m\u001b[32m~\\AppData\\Roaming\\Python\\Python312\\site-packages\\aiogram\\dispatcher\\dispatcher.py:583\u001b[39m, in \u001b[36mDispatcher.start_polling\u001b[39m\u001b[34m(self, polling_timeout, handle_as_tasks, backoff_config, allowed_updates, handle_signals, close_bot_session, tasks_concurrency_limit, *bots, **kwargs)\u001b[39m\n\u001b[32m    568\u001b[39m tasks: List[asyncio.Task[Any]] = [\n\u001b[32m    569\u001b[39m     asyncio.create_task(\n\u001b[32m    570\u001b[39m         \u001b[38;5;28mself\u001b[39m._polling(\n\u001b[32m   (...)\u001b[39m\u001b[32m    580\u001b[39m     \u001b[38;5;28;01mfor\u001b[39;00m bot \u001b[38;5;129;01min\u001b[39;00m bots\n\u001b[32m    581\u001b[39m ]\n\u001b[32m    582\u001b[39m tasks.append(asyncio.create_task(\u001b[38;5;28mself\u001b[39m._stop_signal.wait()))\n\u001b[32m--> \u001b[39m\u001b[32m583\u001b[39m done, pending = \u001b[38;5;28;01mawait\u001b[39;00m asyncio.wait(tasks, return_when=asyncio.FIRST_COMPLETED)\n\u001b[32m    585\u001b[39m \u001b[38;5;28;01mfor\u001b[39;00m task \u001b[38;5;129;01min\u001b[39;00m pending:\n\u001b[32m    586\u001b[39m     \u001b[38;5;66;03m# (mostly) Graceful shutdown unfinished tasks\u001b[39;00m\n\u001b[32m    587\u001b[39m     task.cancel()\n",
      "\u001b[36mFile \u001b[39m\u001b[32mc:\\Program Files\\Python312\\Lib\\asyncio\\tasks.py:464\u001b[39m, in \u001b[36mwait\u001b[39m\u001b[34m(fs, timeout, return_when)\u001b[39m\n\u001b[32m    461\u001b[39m     \u001b[38;5;28;01mraise\u001b[39;00m \u001b[38;5;167;01mTypeError\u001b[39;00m(\u001b[33m\"\u001b[39m\u001b[33mPassing coroutines is forbidden, use tasks explicitly.\u001b[39m\u001b[33m\"\u001b[39m)\n\u001b[32m    463\u001b[39m loop = events.get_running_loop()\n\u001b[32m--> \u001b[39m\u001b[32m464\u001b[39m \u001b[38;5;28;01mreturn\u001b[39;00m \u001b[38;5;28;01mawait\u001b[39;00m _wait(fs, timeout, return_when, loop)\n",
      "\u001b[36mFile \u001b[39m\u001b[32mc:\\Program Files\\Python312\\Lib\\asyncio\\tasks.py:550\u001b[39m, in \u001b[36m_wait\u001b[39m\u001b[34m(fs, timeout, return_when, loop)\u001b[39m\n\u001b[32m    547\u001b[39m     f.add_done_callback(_on_completion)\n\u001b[32m    549\u001b[39m \u001b[38;5;28;01mtry\u001b[39;00m:\n\u001b[32m--> \u001b[39m\u001b[32m550\u001b[39m     \u001b[38;5;28;01mawait\u001b[39;00m waiter\n\u001b[32m    551\u001b[39m \u001b[38;5;28;01mfinally\u001b[39;00m:\n\u001b[32m    552\u001b[39m     \u001b[38;5;28;01mif\u001b[39;00m timeout_handle \u001b[38;5;129;01mis\u001b[39;00m \u001b[38;5;129;01mnot\u001b[39;00m \u001b[38;5;28;01mNone\u001b[39;00m:\n",
      "\u001b[31mCancelledError\u001b[39m: "
     ]
    },
    {
     "name": "stdout",
     "output_type": "stream",
     "text": [
      "ERROR:aiogram.dispatcher:Failed to fetch updates - TelegramConflictError: Telegram server says - Conflict: terminated by other getUpdates request; make sure that only one bot instance is running\n",
      "WARNING:aiogram.dispatcher:Sleep for 4.986748 seconds and try again... (tryings = 6, bot id = 8255896231)\n",
      "ERROR:aiogram.dispatcher:Failed to fetch updates - TelegramConflictError: Telegram server says - Conflict: terminated by other getUpdates request; make sure that only one bot instance is running\n",
      "WARNING:aiogram.dispatcher:Sleep for 5.058368 seconds and try again... (tryings = 7, bot id = 8255896231)\n",
      "ERROR:aiogram.dispatcher:Failed to fetch updates - TelegramConflictError: Telegram server says - Conflict: terminated by other getUpdates request; make sure that only one bot instance is running\n",
      "WARNING:aiogram.dispatcher:Sleep for 4.875899 seconds and try again... (tryings = 8, bot id = 8255896231)\n"
     ]
    }
   ],
   "source": [
    "if __name__ ==\"__main__\":\n",
    "  logging.basicConfig(level=logging.INFO, stream=sys.stdout)\n",
    "  await main()"
   ]
  },
  {
   "cell_type": "code",
   "execution_count": null,
   "id": "35f2fa9b",
   "metadata": {},
   "outputs": [],
   "source": []
  }
 ],
 "metadata": {
  "kernelspec": {
   "display_name": "Python 3",
   "language": "python",
   "name": "python3"
  },
  "language_info": {
   "codemirror_mode": {
    "name": "ipython",
    "version": 3
   },
   "file_extension": ".py",
   "mimetype": "text/x-python",
   "name": "python",
   "nbconvert_exporter": "python",
   "pygments_lexer": "ipython3",
   "version": "3.12.3"
  }
 },
 "nbformat": 4,
 "nbformat_minor": 5
}
